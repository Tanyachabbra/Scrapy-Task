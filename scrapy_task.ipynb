{
  "nbformat": 4,
  "nbformat_minor": 0,
  "metadata": {
    "colab": {
      "name": "scrapy task.ipynb",
      "provenance": []
    },
    "kernelspec": {
      "name": "python3",
      "display_name": "Python 3"
    },
    "language_info": {
      "name": "python"
    }
  },
  "cells": [
    {
      "cell_type": "code",
      "execution_count": 3,
      "metadata": {
        "id": "igv6WSVRumm8"
      },
      "outputs": [],
      "source": [
        "import scrapy"
      ]
    },
    {
      "cell_type": "code",
      "source": [
        "!pip install scrapy"
      ],
      "metadata": {
        "id": "X-JfZSJau-eo"
      },
      "execution_count": null,
      "outputs": []
    },
    {
      "cell_type": "code",
      "source": [
        "import scrapy\n",
        "class shooterssupply(scrapy.Spider):\n",
        "    name = \"supply\"\n",
        "    start_urls = [\n",
        "        'https://www.midsouthshooterssupply.com/dept/reloading/primers?currentpage=1',\n",
        "    ]\n",
        "\n",
        "    def parse(self, response):\n",
        "        for supply in response.css('div.supply'):\n",
        "            yield {\n",
        "                'Manufacturer': supply.css('small.text::text').get(),\n",
        "                'Title': supply.css('small.author::text').get(),\n",
        "                'Price': supply.css('price::text').get(),\n",
        "                \n",
        "            }\n",
        "            "
      ],
      "metadata": {
        "id": "ord4pRetvQRN"
      },
      "execution_count": 5,
      "outputs": []
    },
    {
      "cell_type": "code",
      "source": [
        "!pip install selenium"
      ],
      "metadata": {
        "id": "XIIMSypP6mm1"
      },
      "execution_count": null,
      "outputs": []
    },
    {
      "cell_type": "code",
      "source": [
        "!pip install webdriver_manager"
      ],
      "metadata": {
        "id": "miWHvhKy6_lf"
      },
      "execution_count": null,
      "outputs": []
    },
    {
      "cell_type": "code",
      "source": [
        "!pip install SpeechRecognition"
      ],
      "metadata": {
        "id": "0LtcVFA37NGh"
      },
      "execution_count": null,
      "outputs": []
    },
    {
      "cell_type": "code",
      "source": [
        "!pip install ffmpy"
      ],
      "metadata": {
        "id": "YVIr4eqN7rLK"
      },
      "execution_count": null,
      "outputs": []
    },
    {
      "cell_type": "code",
      "source": [
        "!pip install pydub"
      ],
      "metadata": {
        "colab": {
          "base_uri": "https://localhost:8080/"
        },
        "id": "wvSIsfpd7vXn",
        "outputId": "2662d280-b9d6-4a80-b80d-35d298040aeb"
      },
      "execution_count": 18,
      "outputs": [
        {
          "output_type": "stream",
          "name": "stdout",
          "text": [
            "Collecting pydub\n",
            "  Downloading pydub-0.25.1-py2.py3-none-any.whl (32 kB)\n",
            "Installing collected packages: pydub\n",
            "Successfully installed pydub-0.25.1\n"
          ]
        }
      ]
    },
    {
      "cell_type": "code",
      "source": [
        "!pip install ChromeDriver"
      ],
      "metadata": {
        "colab": {
          "base_uri": "https://localhost:8080/"
        },
        "id": "EmSKS2ND9Qgf",
        "outputId": "6934ff9d-e61c-4d76-f3cf-aa3ba5d15c10"
      },
      "execution_count": 23,
      "outputs": [
        {
          "output_type": "stream",
          "name": "stdout",
          "text": [
            "Collecting ChromeDriver\n",
            "  Downloading chromedriver-2.24.1-py2.py3-none-any.whl (14.3 MB)\n",
            "\u001b[K     |████████████████████████████████| 14.3 MB 26.2 MB/s \n",
            "\u001b[?25hInstalling collected packages: ChromeDriver\n",
            "Successfully installed ChromeDriver-2.24.1\n"
          ]
        }
      ]
    },
    {
      "cell_type": "code",
      "source": [
        "#system libraries\n",
        "import os\n",
        "import random\n",
        "import time\n",
        "#selenium libraries\n",
        "from selenium import webdriver\n",
        "from selenium.webdriver.common.keys import Keys\n",
        "from webdriver_manager.chrome import ChromeDriverManager\n",
        "from selenium.webdriver.support.ui import Select\n",
        "from selenium.common.exceptions import NoSuchElementException   \n",
        "from selenium.webdriver.support.ui import WebDriverWait\n",
        "from selenium.webdriver.support import expected_conditions as EC\n",
        "from selenium.webdriver.common.by import By\n",
        "from selenium.common.exceptions import TimeoutException\n",
        "from selenium.common.exceptions import UnexpectedAlertPresentException\n",
        "from selenium.webdriver.chrome.options import Options\n",
        "#recaptcha libraries\n",
        "import speech_recognition as sr\n",
        "import ffmpy\n",
        "import requests\n",
        "import urllib\n",
        "import pydub"
      ],
      "metadata": {
        "id": "KCbZvA3h0sNK"
      },
      "execution_count": 19,
      "outputs": []
    },
    {
      "cell_type": "code",
      "source": [
        "def delay ():\n",
        "    time.sleep(random.randint(2,3))\n",
        "try:\n",
        "    #create chrome driver\n",
        "    driver = webdriver.Chrome(os.getcwd()+\"\\\\webdriver\\\\chromedriver.exe\") \n",
        "    delay()\n",
        "    #go to website\n",
        "    driver.get(\"https://safebrowsing.google.com/safebrowsing/report_phish/\")\n",
        "    \n",
        "except:\n",
        "    print(\"[-] Please update the chromedriver.exe\")"
      ],
      "metadata": {
        "colab": {
          "base_uri": "https://localhost:8080/"
        },
        "id": "78D7snQr11CL",
        "outputId": "8d9d68e9-6ff9-461e-8921-ec62b76abbd2"
      },
      "execution_count": 24,
      "outputs": [
        {
          "output_type": "stream",
          "name": "stdout",
          "text": [
            "[-] Please update the chromedriver.exe\n"
          ]
        },
        {
          "output_type": "stream",
          "name": "stderr",
          "text": [
            "/usr/local/lib/python3.7/dist-packages/ipykernel_launcher.py:5: DeprecationWarning: executable_path has been deprecated, please pass in a Service object\n",
            "  \"\"\"\n"
          ]
        }
      ]
    },
    {
      "cell_type": "code",
      "source": [
        "#switch to recaptcha frame\n",
        "frames=driver.find_elements_by_tag_name(\"iframe\")\n",
        "driver.switch_to.frame(frames[0]);\n",
        "delay()\n",
        "#click on checkbox to activate recaptcha\n",
        "driver.find_element_by_class_name(\"recaptcha-checkbox-border\").click()\n",
        "#switch to recaptcha audio control frame\n",
        "driver.switch_to.default_content()\n",
        "frames=driver.find_element_by_xpath(\"/html/body/div[2]/div[4]\").find_elements_by_tag_name(\"iframe\")\n",
        "driver.switch_to.frame(frames[0])\n",
        "delay()\n",
        "#click on audio challenge\n",
        "driver.find_element_by_id(\"recaptcha-audio-button\").click()\n",
        "#switch to recaptcha audio challenge frame\n",
        "driver.switch_to.default_content()\n",
        "frames= driver.find_elements_by_tag_name(\"iframe\")\n",
        "driver.switch_to.frame(frames[-1])\n",
        "delay()\n",
        "#click on the play button\n",
        "driver.find_element_by_xpath(\"/html/body/div/div/div[3]/div/button\").click()"
      ],
      "metadata": {
        "colab": {
          "base_uri": "https://localhost:8080/",
          "height": 235
        },
        "id": "mb4nTdaC8rsq",
        "outputId": "e20f5af2-02fc-41b3-d4d9-7cec611ad813"
      },
      "execution_count": 28,
      "outputs": [
        {
          "output_type": "error",
          "ename": "NameError",
          "evalue": "ignored",
          "traceback": [
            "\u001b[0;31m---------------------------------------------------------------------------\u001b[0m",
            "\u001b[0;31mNameError\u001b[0m                                 Traceback (most recent call last)",
            "\u001b[0;32m<ipython-input-28-9d71fd5e4a9c>\u001b[0m in \u001b[0;36m<module>\u001b[0;34m()\u001b[0m\n\u001b[1;32m      1\u001b[0m \u001b[0;31m#switch to recaptcha frame\u001b[0m\u001b[0;34m\u001b[0m\u001b[0;34m\u001b[0m\u001b[0;34m\u001b[0m\u001b[0m\n\u001b[0;32m----> 2\u001b[0;31m \u001b[0mframes\u001b[0m\u001b[0;34m=\u001b[0m\u001b[0mdriver\u001b[0m\u001b[0;34m.\u001b[0m\u001b[0mfind_elements_by_tag_name\u001b[0m\u001b[0;34m(\u001b[0m\u001b[0;34m\"iframe\"\u001b[0m\u001b[0;34m)\u001b[0m\u001b[0;34m\u001b[0m\u001b[0;34m\u001b[0m\u001b[0m\n\u001b[0m\u001b[1;32m      3\u001b[0m \u001b[0mdriver\u001b[0m\u001b[0;34m.\u001b[0m\u001b[0mswitch_to\u001b[0m\u001b[0;34m.\u001b[0m\u001b[0mframe\u001b[0m\u001b[0;34m(\u001b[0m\u001b[0mframes\u001b[0m\u001b[0;34m[\u001b[0m\u001b[0;36m0\u001b[0m\u001b[0;34m]\u001b[0m\u001b[0;34m)\u001b[0m\u001b[0;34m;\u001b[0m\u001b[0;34m\u001b[0m\u001b[0;34m\u001b[0m\u001b[0m\n\u001b[1;32m      4\u001b[0m \u001b[0mdelay\u001b[0m\u001b[0;34m(\u001b[0m\u001b[0;34m)\u001b[0m\u001b[0;34m\u001b[0m\u001b[0;34m\u001b[0m\u001b[0m\n\u001b[1;32m      5\u001b[0m \u001b[0;31m#click on checkbox to activate recaptcha\u001b[0m\u001b[0;34m\u001b[0m\u001b[0;34m\u001b[0m\u001b[0;34m\u001b[0m\u001b[0m\n",
            "\u001b[0;31mNameError\u001b[0m: name 'driver' is not defined"
          ]
        }
      ]
    },
    {
      "cell_type": "code",
      "source": [
        "#get the mp3 audio file\n",
        "src = driver.find_element_by_id(\"audio-source\").get_attribute(\"src\")\n",
        "print(\"[INFO] Audio src: %s\"%src)\n",
        "#download the mp3 audio file from the source\n",
        "urllib.request.urlretrieve(src, os.getcwd()+\"\\\\sample.mp3\")"
      ],
      "metadata": {
        "id": "kjtls8Zl80LL"
      },
      "execution_count": null,
      "outputs": []
    },
    {
      "cell_type": "code",
      "source": [
        "sound = pydub.AudioSegment.from_mp3(os.getcwd()+\"\\\\sample.mp3\")\n",
        "sound.export(os.getcwd()+\"\\\\sample.wav\", format=\"wav\")\n",
        "sample_audio = sr.AudioFile(os.getcwd()+\"\\\\sample.wav\")"
      ],
      "metadata": {
        "id": "BWT8Pk_W83He"
      },
      "execution_count": null,
      "outputs": []
    },
    {
      "cell_type": "code",
      "source": [
        "#translate audio to text with google voice recognition\n",
        "key=r.recognize_google(audio)\n",
        "print(\"[INFO] Recaptcha Passcode: %s\"%key)"
      ],
      "metadata": {
        "id": "snwmhm8g854m"
      },
      "execution_count": null,
      "outputs": []
    },
    {
      "cell_type": "code",
      "source": [
        "#key in results and submit\n",
        "driver.find_element_by_id(\"audio-response\").send_keys(key.lower())\n",
        "driver.find_element_by_id(\"audio-response\").send_keys(Keys.ENTER)\n",
        "driver.switch_to.default_content()\n",
        "delay()\n",
        "driver.find_element_by_id(\"recaptcha-demo-submit\").click()\n",
        "delay()"
      ],
      "metadata": {
        "id": "rXk_Wgrw8-Tc"
      },
      "execution_count": null,
      "outputs": []
    }
  ]
}